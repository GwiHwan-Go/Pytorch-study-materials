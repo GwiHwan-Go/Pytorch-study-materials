{
  "nbformat": 4,
  "nbformat_minor": 0,
  "metadata": {
    "colab": {
      "name": "lab06-FashionMNIST-classification.ipynb",
      "provenance": [],
      "collapsed_sections": [],
      "include_colab_link": true
    },
    "kernelspec": {
      "name": "python3",
      "display_name": "Python 3"
    },
    "language_info": {
      "name": "python"
    },
    "accelerator": "GPU"
  },
  "cells": [
    {
      "cell_type": "markdown",
      "metadata": {
        "id": "view-in-github",
        "colab_type": "text"
      },
      "source": [
        "<a href=\"https://colab.research.google.com/github/GwiHwan-Go/Pytorch-study-materials/blob/main/contents/lab06_FashionMNIST_classification.ipynb\" target=\"_parent\"><img src=\"https://colab.research.google.com/assets/colab-badge.svg\" alt=\"Open In Colab\"/></a>"
      ]
    },
    {
      "cell_type": "markdown",
      "metadata": {
        "id": "hKpob9_wDf-c"
      },
      "source": [
        "# Lab 6 Multi-class Classification on FashionMNIST\n",
        "You will \n",
        "- start doing image processing\n",
        "- run our models on GPUs\n",
        "- use the `DataLoader()` class to iterate over dataset\n",
        "- visualise images in the dataset\n",
        "- train the model in batches\n",
        "- print training and test accuracies\n",
        "- perform some transformations on the dataset\n",
        "- tweak the hyper parameters to help with model performance\n",
        "\n",
        "**IMPORTANT: Change your runtime type to GPU before continuining.**\n",
        "\n"
      ]
    },
    {
      "cell_type": "code",
      "metadata": {
        "id": "eFNeaZyUtpXZ"
      },
      "source": [
        "import torch\n",
        "import torchvision\n",
        "import torchvision.transforms as transforms\n",
        "\n",
        "import matplotlib.pyplot as plt\n",
        "\n",
        "import torch.optim as optim\n",
        "import torch.nn as nn"
      ],
      "execution_count": null,
      "outputs": []
    },
    {
      "cell_type": "markdown",
      "metadata": {
        "id": "UMmpnqJgocup"
      },
      "source": [
        "### 0. Set up the device and hyper parameters"
      ]
    },
    {
      "cell_type": "code",
      "metadata": {
        "id": "HNnGekwgofqO"
      },
      "source": [
        "# Device configuration\n",
        "device = torch.device('cuda' if torch.cuda.is_available() else 'cpu')\n",
        "print(device) # should print cuda, change your runtime type to GPU if not\n",
        "\n",
        "# Hyper parameters\n",
        "input_size = 784 # 28x28\n",
        "hidden_size = 32 # can be removed if you prefer to specify this in the model's class itself\n",
        "num_classes = 10\n",
        "num_epochs = 2 #5\n",
        "batch_size = 32\n",
        "learning_rate = 0.001"
      ],
      "execution_count": null,
      "outputs": []
    },
    {
      "cell_type": "markdown",
      "metadata": {
        "id": "VXVv7RQit4cL"
      },
      "source": [
        "### 1. Load the dataset"
      ]
    },
    {
      "cell_type": "code",
      "metadata": {
        "id": "6CP32BKYt6II"
      },
      "source": [
        "# import data\n",
        "train_set = torchvision.datasets.FashionMNIST(root=\"./\", download=True, \n",
        "                                              train=True,\n",
        "                                              transform=transforms.Compose([transforms.ToTensor()]))\n",
        "\n",
        "test_set = torchvision.datasets.FashionMNIST(root=\"./\", download=False, \n",
        "                                              train=False,\n",
        "                                              transform=transforms.Compose([transforms.ToTensor()]))\n",
        "\n",
        "# TODO: after downloading, locate the data within your hosted runtime machine in the folder on the left\n",
        "# Q0. Type 'OK' below if you see a folder called 'FashionMNIST'\n",
        "# "
      ],
      "execution_count": null,
      "outputs": []
    },
    {
      "cell_type": "markdown",
      "metadata": {
        "id": "T_mpiaP92Gv3"
      },
      "source": [
        "### View basic info on training data"
      ]
    },
    {
      "cell_type": "code",
      "metadata": {
        "id": "Y8nfqRaAwxZw"
      },
      "source": [
        "print(f'Train set size: {len(train_set)}') # number of samples in training set\n",
        "print(f'Labels: {train_set.targets}') # displays targets labels for the training data\n",
        "print(f'Count of each class: {train_set.targets.bincount()}') \n",
        "\n",
        "# Q1. Considering the size of the training set and the batch size, how many iterations will there be in each epoch?\n",
        "\n",
        "\n",
        "# Q2. Is the dataset balanced? Why?\n"
      ],
      "execution_count": null,
      "outputs": []
    },
    {
      "cell_type": "markdown",
      "metadata": {
        "id": "-Uv676yivunH"
      },
      "source": [
        "### 2. Use DataLoader to load the datasets\n",
        "If you get an error when you (re-)run the next code cell, then `restart the runtime` and run all code cells again."
      ]
    },
    {
      "cell_type": "code",
      "metadata": {
        "id": "9MYCt5iXtiHc"
      },
      "source": [
        "train_loader = torch.utils.data.DataLoader(train_set, batch_size=batch_size)\n",
        "test_loader = torch.utils.data.DataLoader(test_set, batch_size=batch_size)\n",
        "\n",
        "# Access the first data sample in the train_set using next(iter())\n",
        "sample = next(iter(train_set))\n",
        "print(f'Length: {len(sample)}')\n",
        "print(f'Type: {type(sample)}')\n",
        "\n",
        "# This means the data contains image-label pairs\n",
        "# Unpack them\n",
        "image, label = sample\n",
        "# Same as these two lines:\n",
        "# image = sample[0]\n",
        "# label = sample[1]\n",
        "\n",
        "\n",
        "print(image.shape)\n",
        "print(label)\n",
        "\n",
        "# Q3. What does the shape of the image tell you about the number of channels and dimensions of the images?\n",
        "\n",
        "# Q4. What does the label value represent?\n"
      ],
      "execution_count": null,
      "outputs": []
    },
    {
      "cell_type": "markdown",
      "metadata": {
        "id": "SkUSs38F4fTv"
      },
      "source": [
        "### 3. Visualisation\n",
        "View the first image"
      ]
    },
    {
      "cell_type": "code",
      "metadata": {
        "id": "PIY_3XLLq4HW"
      },
      "source": [
        "plt.imshow(image.squeeze(), cmap='gray')"
      ],
      "execution_count": null,
      "outputs": []
    },
    {
      "cell_type": "code",
      "metadata": {
        "id": "ewlJW3F7uA2s"
      },
      "source": [
        "# Get the first BATCH from train_loader\n",
        "batch = next(iter(train_loader))\n",
        "print(len(batch))\n",
        "print(type(batch))\n",
        "\n",
        "# Unpack the images and labels\n",
        "images, labels = batch\n",
        "\n",
        "print(f'Image shape: {images.shape}')\n",
        "print(f'Label shape: {labels.shape}')\n",
        "\n",
        "# Q5. What does each number in the shape of the images represent?\n",
        "\n",
        "# Q6. What about the shape of the labels?\n"
      ],
      "execution_count": null,
      "outputs": []
    },
    {
      "cell_type": "markdown",
      "metadata": {
        "id": "hQrK9-gRuHJm"
      },
      "source": [
        "### View some sample images\n",
        "- The table for the label index and description is available [HERE](https://github.com/zalandoresearch/fashion-mnist#labels)"
      ]
    },
    {
      "cell_type": "code",
      "metadata": {
        "id": "Zwz0kGvfuL6d"
      },
      "source": [
        "# Create a grid \n",
        "plt.figure(figsize=(15,15))\n",
        "grid = torchvision.utils.make_grid(tensor=images, nrow=4) # nrow = number of images displayed in each row\n",
        "\n",
        "print(f\"class labels: {labels}\")\n",
        "\n",
        "# Use grid.permute() to transpose the grid so that the axes meet the specifications required by \n",
        "# plt.imshow(), which are [height, width, channels]. PyTorch dimensions are [channels, height, width].\n",
        "plt.imshow(grid.permute(1,2,0), cmap='gray')\n",
        "\n",
        "\n",
        "# Note that the images are grayscale (black and white) and have 28x28 pixels\n",
        "# Grayscale images only have one channel\n",
        "# TODO: Check that the image labels for each image corresponds to the correct label provided above\n",
        "\n",
        "# Q7. How many images are displayed in total here and why? \n",
        "\n",
        "# Q8. How do you increase or decrease the TOTAL number of images displayed?\n"
      ],
      "execution_count": null,
      "outputs": []
    },
    {
      "cell_type": "markdown",
      "metadata": {
        "id": "GEqum0gywlAr"
      },
      "source": [
        "### 4. Define the Neural Network, Loss and Optimiser"
      ]
    },
    {
      "cell_type": "code",
      "metadata": {
        "id": "EomhDykuKgcf"
      },
      "source": [
        "# 4. NN model\n",
        "class FashionNN(nn.Module):\n",
        "  def __init__(self, input_size, hidden_size, num_classes):\n",
        "    super().__init__()\n",
        "    self.layer1 = nn.Linear(input_size, hidden_size)\n",
        "    self.relu = nn.ReLU()\n",
        "    self.layer2 = nn.Linear(hidden_size, num_classes)\n",
        "    # NOTE: softmax not added here because of CrossEntropyLoss later\n",
        "\n",
        "  def forward(self, x):\n",
        "    out = self.layer1(x)\n",
        "    out = self.relu(out)\n",
        "    out = self.layer2(out)\n",
        "    return out\n",
        "\n",
        "# 4.1 Create NN model instance\n",
        "model = FashionNN(input_size, hidden_size, num_classes).to(device)\n",
        "\n",
        "# 4.2 Loss and Optimiser\n",
        "criterion = nn.CrossEntropyLoss() # will apply softmax\n",
        "opt = optim.Adam(model.parameters(), lr=learning_rate)"
      ],
      "execution_count": null,
      "outputs": []
    },
    {
      "cell_type": "markdown",
      "metadata": {
        "id": "-ad4xBEypUEQ"
      },
      "source": [
        "### 5. Training Loop"
      ]
    },
    {
      "cell_type": "code",
      "metadata": {
        "id": "qG5SZmR3OLUX"
      },
      "source": [
        "# 5. Training loop\n",
        "n_total_steps = len(train_set)\n",
        "n_iterations = -(-n_total_steps // batch_size) # ceiling division\n",
        "\n",
        "n_correct = 0\n",
        "n_samples = 0\n",
        "\n",
        "for epoch in range(num_epochs):\n",
        "  print('\\n')\n",
        "  # 5.1 loop over all the batches, i is index, (images, labels) is data\n",
        "  for i, (images, labels) in enumerate(train_loader):\n",
        "    # 5.2 Reshape images first [batch_size, 1, 28, 28] --> [batch_size, 784]\n",
        "    # 5.3 Push images to GPU\n",
        "    images = images.reshape(-1, 28*28).to(device)\n",
        "    labels = labels.to(device)\n",
        "\n",
        "    # 5.4 Forward pass\n",
        "    outputs = model(images)\n",
        "    loss = criterion(outputs, labels)\n",
        "\n",
        "    # 5.5 Backward pass\n",
        "    opt.zero_grad() # 5.6 Empty the values in the gradient attribute, or model.zero_grad()\n",
        "    loss.backward() # 5.7 Backprop\n",
        "    opt.step() # 5.8 Update params\n",
        "\n",
        "    # 5.9 Print loss\n",
        "    if (i+1) % 200 == 0:\n",
        "      print(f'Epoch {epoch+1}/{num_epochs}, Iteration {i+1}/{n_iterations}, Loss={loss.item():.4f} ')\n",
        "\n",
        "    # 5.10 Get Accuracy\n",
        "    # torch.max() returns actual probability value (ignored) and index or class label (selected)\n",
        "    _, y_preds = torch.max(outputs, 1)\n",
        "    n_samples += labels.shape[0]\n",
        "    n_correct += (y_preds == labels).sum().item()\n",
        "\n",
        "# 5.11 Print accuracy\n",
        "acc = 100.0 * n_correct / n_samples\n",
        "print(f'\\nTrain Accuracy = {acc:.4f}')"
      ],
      "execution_count": null,
      "outputs": []
    },
    {
      "cell_type": "markdown",
      "metadata": {
        "id": "2h_mGIz8phs_"
      },
      "source": [
        "### 6. Evaluation"
      ]
    },
    {
      "cell_type": "code",
      "metadata": {
        "id": "1OycQhxjSD78"
      },
      "source": [
        "# 6. Deactivate the autograd engine to reduce memory usage and speed up computations (backprop disabled).\n",
        "with torch.no_grad():\n",
        "  n_correct = 0\n",
        "  n_samples = 0\n",
        "\n",
        "  # 6.1 Loop through test set\n",
        "  for images, labels in test_loader:\n",
        "    # 6.2 \n",
        "    images = images.reshape(-1, 28*28).to(device)\n",
        "    labels = labels.to(device)\n",
        "    # 6.3 Run on trained model\n",
        "    outputs = model(images) \n",
        "\n",
        "    # 6.4. Get predictions\n",
        "    # torch.max() returns actual probability value (ignored) and index or class label (selected)\n",
        "    _, y_preds = torch.max(outputs, 1)\n",
        "    n_samples += labels.shape[0]\n",
        "    n_correct += (y_preds == labels).sum().item()\n",
        "\n",
        "  # 6.5 Print accuracy\n",
        "  acc = 100.0 * n_correct / n_samples\n",
        "  print(f'Test Accuracy = {acc:.4f}')"
      ],
      "execution_count": null,
      "outputs": []
    },
    {
      "cell_type": "code",
      "metadata": {
        "id": "H3XPHhJOyk1I"
      },
      "source": [
        "# Q9. What is the final loss of this model on the training set?\n",
        "\n",
        "# Q10. What is the accuracy of this model on the training set?\n",
        "\n",
        "# Q11. What is the accuracy of the trained model on the test set?\n"
      ],
      "execution_count": null,
      "outputs": []
    },
    {
      "cell_type": "markdown",
      "metadata": {
        "id": "7uA-MQhkvLYm"
      },
      "source": [
        "### TASK: Increase `num_epochs` & redo\n",
        "- Keep track of the loss and test set accuracy\n",
        "- Set `num_epochs=5` in code cell 0 (hyper parameters)\n",
        "- Rebuild and retrain the model by **running code cells 0, 4, and 5 ONLY**\n",
        "- Evaluate the model on the test data by running **code cell 6**\n",
        "- Answer the questions below"
      ]
    },
    {
      "cell_type": "code",
      "metadata": {
        "id": "0K3EjH8avaxl"
      },
      "source": [
        "# Q12. What is the final loss now and is it less than the previous loss?\n",
        "\n",
        "# Q13. Are the training and test set accuracies higher now?\n",
        "\n",
        "# Q14. After changing the num_epochs, why should code cell 4 (NN, Loss, Optimiser) be run before code cell 5 (training)?\n"
      ],
      "execution_count": null,
      "outputs": []
    },
    {
      "cell_type": "markdown",
      "metadata": {
        "id": "-eXwmWVGwCPC"
      },
      "source": [
        "## 6. Let's add some improvements\n",
        "\n",
        "We are going to add ONE improvement at a time\n",
        "- First the training data is **normalised and shuffled** (code provided). Use the same number of epochs as the the previous case to make a fair comparison.\n",
        "- Build and train the model and get the loss, train and test set accuracies.\n",
        "- Then change ONE hyper parameter, e.g. `num_epochs`, `hidden_size`, `batch_size`, `learning_rate` OR add layers.\n",
        "- Run code cells 7-11 to train and test the model and take note of its loss, train and test accuracies.\n",
        "\n",
        "**IMPORTANT!** If you have trouble running any of the code cells below, restart the runtime, via `Runtime-->Restart runtime` before continuing (or `Ctrl/Cmd + M + .`)\n"
      ]
    },
    {
      "cell_type": "code",
      "metadata": {
        "id": "4QfzTvO8Nx8g"
      },
      "source": [
        "# You DO NOT have to run this cell code unless you restarted the runtime.\n",
        "\n",
        "import torch\n",
        "import torchvision\n",
        "import torchvision.transforms as transforms\n",
        "\n",
        "import matplotlib.pyplot as plt\n",
        "\n",
        "import torch.optim as optim\n",
        "import torch.nn as nn"
      ],
      "execution_count": null,
      "outputs": []
    },
    {
      "cell_type": "markdown",
      "metadata": {
        "id": "30aufWiM3Naq"
      },
      "source": [
        "### 7. Normalise and Shuffle the Traning Data"
      ]
    },
    {
      "cell_type": "code",
      "metadata": {
        "id": "S_qut4Y4Q4Uu"
      },
      "source": [
        "# Add Normalisation to transform data\n",
        "transform = transforms.Compose([transforms.ToTensor(),\n",
        "                                transforms.Normalize((0.0,), (0.5,),)])\n",
        "\n",
        "train_set = torchvision.datasets.FashionMNIST(root=\"./\", download=True, \n",
        "                                              train=True,\n",
        "                                              transform=transform)\n",
        "test_set = torchvision.datasets.FashionMNIST(root=\"./\", download=True, \n",
        "                                              train=False,\n",
        "                                              transform=transform)\n"
      ],
      "execution_count": null,
      "outputs": []
    },
    {
      "cell_type": "markdown",
      "metadata": {
        "id": "aWVj9JNOQGaU"
      },
      "source": [
        "### 8a. Hyper-parameters"
      ]
    },
    {
      "cell_type": "code",
      "metadata": {
        "id": "70oa_pmlvSu2"
      },
      "source": [
        "device = torch.device('cuda' if torch.cuda.is_available() else 'cpu')\n",
        "print(device)\n",
        "\n",
        "# Hyper parameters\n",
        "input_size = 784 # 28x28\n",
        "hidden_size = 32\n",
        "num_classes = 10 \n",
        "num_epochs = 2\n",
        "batch_size = 32\n",
        "learning_rate = 0.001"
      ],
      "execution_count": null,
      "outputs": []
    },
    {
      "cell_type": "markdown",
      "metadata": {
        "id": "oRTslkm-wZbE"
      },
      "source": [
        "### 8b. Shuffle the training data\n",
        "\n",
        "This reshuffles the data at every epoch\n"
      ]
    },
    {
      "cell_type": "code",
      "metadata": {
        "id": "DYfGUo0rRfG9"
      },
      "source": [
        "train_loader = torch.utils.data.DataLoader(train_set, batch_size=batch_size, shuffle=True)\n",
        "test_loader = torch.utils.data.DataLoader(test_set, batch_size=batch_size, shuffle=False)\n"
      ],
      "execution_count": null,
      "outputs": []
    },
    {
      "cell_type": "markdown",
      "metadata": {
        "id": "d8ciaWDeVnm2"
      },
      "source": [
        "### 9. NN Model, Loss, Optimiser"
      ]
    },
    {
      "cell_type": "code",
      "metadata": {
        "id": "eglzc-j5AD8S"
      },
      "source": [
        "# 9. NN model\n",
        "class FashionNN2(nn.Module):\n",
        "  def __init__(self, input_size, hidden_size, num_classes):\n",
        "    super().__init__()\n",
        "    self.layer1 = nn.Linear(input_size, hidden_size)\n",
        "    self.relu = nn.ReLU()\n",
        "    self.layer2 = nn.Linear(hidden_size, num_classes)\n",
        "    # NOTE: softmax not added here because of CrossEntropyLoss later\n",
        "\n",
        "  def forward(self, x):\n",
        "    out = self.layer1(x)\n",
        "    out = self.relu(out)\n",
        "    out = self.layer2(out)\n",
        "    return out\n",
        "\n",
        "# 9.1 Create NN model instance\n",
        "model = FashionNN2(input_size, hidden_size, num_classes).to(device)\n",
        "\n",
        "# 9.2 Loss and Optimiser\n",
        "criterion = nn.CrossEntropyLoss() # will apply softmax\n",
        "opt = optim.Adam(model.parameters(), lr=learning_rate)"
      ],
      "execution_count": null,
      "outputs": []
    },
    {
      "cell_type": "markdown",
      "metadata": {
        "id": "xJe5KODuWpf0"
      },
      "source": [
        "### 10. Training Loop"
      ]
    },
    {
      "cell_type": "code",
      "metadata": {
        "id": "cXvpA1zyAXTl"
      },
      "source": [
        "# 10. Training loop\n",
        "n_total_steps = len(train_set)\n",
        "n_iterations = -(-n_total_steps // batch_size) # ceiling division\n",
        "\n",
        "n_correct = 0\n",
        "n_samples = 0\n",
        "\n",
        "for epoch in range(num_epochs):\n",
        "  print('\\n')\n",
        "  # 10.1 loop over all the batches, i is index, (images, labels) is data\n",
        "  for i, (images, labels) in enumerate(train_loader):\n",
        "    # 10.2 Reshape images first [batch_size, 1, 28, 28] --> [batch_size, 784]\n",
        "    # 10.3 Push images to GPU\n",
        "    images = images.reshape(-1, 28*28).to(device)\n",
        "    labels = labels.to(device)\n",
        "\n",
        "    # 10.4 Forward pass\n",
        "    outputs = model(images)\n",
        "    loss = criterion(outputs, labels)\n",
        "\n",
        "    # 10.5 Backward pass\n",
        "    opt.zero_grad() \n",
        "    loss.backward() \n",
        "    opt.step() \n",
        "\n",
        "    # 10.6 Print loss\n",
        "    if (i+1) % 200 == 0:\n",
        "      print(f'Epoch {epoch+1}/{num_epochs}, Iteration {i+1}/{n_iterations}, Loss={loss.item():.4f} ')\n",
        "\n",
        "    # 10.7 Get model Accuracy\n",
        "    # torch.max() returns actual probability value (ignored) and index of class label (selected)\n",
        "    _, y_preds = torch.max(outputs, 1)\n",
        "    n_samples += labels.shape[0]\n",
        "    n_correct += (y_preds == labels).sum().item()\n",
        "\n",
        "# 10.8 Print accuracy\n",
        "acc = 100.0 * n_correct / n_samples\n",
        "print(f'Finished training \\nTrain Accuracy = {acc:.4f}')\n"
      ],
      "execution_count": null,
      "outputs": []
    },
    {
      "cell_type": "markdown",
      "metadata": {
        "id": "vh3kJa0gWvSn"
      },
      "source": [
        "### 11. Evaluation on Test Set"
      ]
    },
    {
      "cell_type": "code",
      "metadata": {
        "id": "bEHiGUlGxgx2"
      },
      "source": [
        "# 11. Deactivate the autograd engine to reduce memory usage and speed up computations (backprop disabled).\n",
        "with torch.no_grad():\n",
        "  n_correct = 0\n",
        "  n_samples = 0\n",
        "\n",
        "  # 11.1 Loop through test set\n",
        "  for images, labels in test_loader:\n",
        "    images = images.reshape(-1, 28*28).to(device)\n",
        "    labels = labels.to(device)\n",
        "    outputs = model(images) \n",
        "\n",
        "    # 11.2 Get predictions\n",
        "    # torch.max() returns actual probability value (ignored) and index or class label (selected)\n",
        "    _, y_preds = torch.max(outputs, 1)\n",
        "    n_samples += labels.shape[0]\n",
        "    n_correct += (y_preds == labels).sum().item()\n",
        "\n",
        "  # 11.3 Print accuracy\n",
        "  acc = 100.0 * n_correct / n_samples\n",
        "  print(f'Test Accuracy = {acc:.4f}')\n"
      ],
      "execution_count": null,
      "outputs": []
    },
    {
      "cell_type": "code",
      "metadata": {
        "id": "9JEY07vqTLR_"
      },
      "source": [
        "# Q15. What is the final loss of this model on the training set?\n",
        "\n",
        "# Q16. What is the accuracy of this model on the training set?\n",
        "\n",
        "# Q17. What is the accuracy of the trained model on the test set?\n",
        "\n",
        "# Q18. Did shuffling and normalisation help to build a better model?\n",
        "\n",
        "# Q19. How many training samples were seen by the model during each epoch of training?\n"
      ],
      "execution_count": null,
      "outputs": []
    },
    {
      "cell_type": "markdown",
      "metadata": {
        "id": "5Fffl5eTtYWj"
      },
      "source": [
        "### Further Improvement\n",
        "\n",
        "- Try changing other hyper parameters, ONE at a time while keeping everything else the same\n",
        "- **KEEP shuffling and normalisation**, i.e. do not change code cells 7 and 8b.\n",
        "- Example changes:\n",
        "  - Increase `num_epochs` (max 20)\n",
        "  - Change number neurons in hidden layers (keep it within 128 max per layer)\n",
        "  - Add ONE extra hidden layer at a time (start with 32 units). You only need to run code cells 9-11.\n",
        "  - Change `batch_size` (to powers of 2s), try 64.\n",
        "  - Change loss to NLLLoss(), you need to add softmax activation in the output layer\n",
        "  - Change the learning rate\n",
        "\n",
        "- Rerun **code cells 8a-11**(except when adding layers, where you would rerun just cells 9-11).\n",
        "- If the change improves the model, KEEP this improvement and change something else and redo to see if it can be further improved.\n",
        "- Keep a record of the final loss, train and test set accuracies for each test run.\n",
        "- Make at LEAST THREE changes that help improve the model's performance on the test set.\n"
      ]
    },
    {
      "cell_type": "code",
      "metadata": {
        "id": "uX-qh72JdzOJ"
      },
      "source": [
        "# Test 1 \n",
        "# Change (e.g. num_epochs=10): \n",
        "# Loss:\n",
        "# Train acc: \n",
        "# Test acc: "
      ],
      "execution_count": null,
      "outputs": []
    },
    {
      "cell_type": "code",
      "metadata": {
        "id": "X8YH49fHeH6x"
      },
      "source": [
        "# Test 2 \n",
        "# Change (e.g. batch_size=64):\n",
        "# Loss:\n",
        "# Train acc: \n",
        "# Test acc: "
      ],
      "execution_count": null,
      "outputs": []
    },
    {
      "cell_type": "code",
      "metadata": {
        "id": "EYSPW1aeeIwi"
      },
      "source": [
        "# Test 3\n",
        "# Change: \n",
        "# Loss: \n",
        "# Train acc: \n",
        "# Test acc: "
      ],
      "execution_count": null,
      "outputs": []
    },
    {
      "cell_type": "code",
      "metadata": {
        "id": "M0cnlcn3kXL2"
      },
      "source": [
        "# Q20. State any insights you gained from this exercise."
      ],
      "execution_count": null,
      "outputs": []
    }
  ]
}